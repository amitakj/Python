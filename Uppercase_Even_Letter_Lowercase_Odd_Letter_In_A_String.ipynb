{
 "cells": [
  {
   "cell_type": "markdown",
   "metadata": {},
   "source": [
    "## Problem Statement:\n",
    "\n",
    "### create a function that takes in a string and returns a matching string where every even letter is uppercase and every odd letter is lowercase. The string only contains letters"
   ]
  },
  {
   "cell_type": "code",
   "execution_count": 2,
   "metadata": {},
   "outputs": [],
   "source": [
    "## defining the function:\n",
    "def case_change(string):\n",
    "    result='' ##creating an empty string variable\n",
    "    for index,item in enumerate(string):\n",
    "        if index%2==0:\n",
    "            result+=string[index].upper() ##Changing the character to uppercase and appending to the string variable\n",
    "        else:\n",
    "            result+=string[index].lower() ##Changing the character to lowercase and appending to the string variable\n",
    "    return result"
   ]
  },
  {
   "cell_type": "code",
   "execution_count": 5,
   "metadata": {},
   "outputs": [
    {
     "name": "stdout",
     "output_type": "stream",
     "text": [
      "HeLlO\n"
     ]
    }
   ],
   "source": [
    "## Calling the function:\n",
    "\n",
    "print(case_change('hello'))"
   ]
  },
  {
   "cell_type": "markdown",
   "metadata": {},
   "source": [
    "### Another approach:"
   ]
  },
  {
   "cell_type": "code",
   "execution_count": 8,
   "metadata": {},
   "outputs": [
    {
     "name": "stdout",
     "output_type": "stream",
     "text": [
      "HeLlOwOrLd\n"
     ]
    }
   ],
   "source": [
    "def case_change(string):\n",
    "\n",
    "    res = []\n",
    "    #Iterate over the characters\n",
    "    for index, c in enumerate(string):\n",
    "        if index % 2 == 0:\n",
    "            #Refer to each character via index and append modified character to list\n",
    "            res.append(c.upper())\n",
    "        else:\n",
    "            res.append(c.lower())\n",
    "\n",
    "    #Join the list into a string and return\n",
    "    return ''.join(res)\n",
    "print(case_change('helloworld'))"
   ]
  },
  {
   "cell_type": "code",
   "execution_count": null,
   "metadata": {},
   "outputs": [],
   "source": []
  }
 ],
 "metadata": {
  "kernelspec": {
   "display_name": "Python 3",
   "language": "python",
   "name": "python3"
  },
  "language_info": {
   "codemirror_mode": {
    "name": "ipython",
    "version": 3
   },
   "file_extension": ".py",
   "mimetype": "text/x-python",
   "name": "python",
   "nbconvert_exporter": "python",
   "pygments_lexer": "ipython3",
   "version": "3.7.3"
  }
 },
 "nbformat": 4,
 "nbformat_minor": 2
}
